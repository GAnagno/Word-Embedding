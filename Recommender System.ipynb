{
 "cells": [
  {
   "cell_type": "code",
   "execution_count": 1,
   "metadata": {},
   "outputs": [
    {
     "name": "stderr",
     "output_type": "stream",
     "text": [
      "Using TensorFlow backend.\n"
     ]
    }
   ],
   "source": [
    "import json\n",
    "from collections import Counter\n",
    "from keras.models import Model\n",
    "from keras.layers import Embedding, Input, Reshape\n",
    "from keras.layers.merge import Dot\n",
    "from sklearn.linear_model import LinearRegression\n",
    "import numpy as np\n",
    "import random\n",
    "from sklearn import svm"
   ]
  },
  {
   "cell_type": "code",
   "execution_count": 2,
   "metadata": {},
   "outputs": [],
   "source": [
    "with open('data/wp_movies_10k.ndjson') as fin:\n",
    "    movies = [json.loads(l) for l in fin]"
   ]
  },
  {
   "cell_type": "code",
   "execution_count": 3,
   "metadata": {},
   "outputs": [
    {
     "data": {
      "text/plain": [
       "[('Rotten Tomatoes', 9393),\n",
       " ('Category:English-language films', 5882),\n",
       " ('Category:American films', 5867),\n",
       " ('Variety (magazine)', 5450),\n",
       " ('Metacritic', 5112),\n",
       " ('Box Office Mojo', 4186),\n",
       " ('The New York Times', 3818),\n",
       " ('The Hollywood Reporter', 3553),\n",
       " ('Roger Ebert', 2707),\n",
       " ('Los Angeles Times', 2454)]"
      ]
     },
     "execution_count": 3,
     "metadata": {},
     "output_type": "execute_result"
    }
   ],
   "source": [
    "link_counts = Counter()\n",
    "for movie in movies:\n",
    "    link_counts.update(movie[2])\n",
    "link_counts.most_common(10)"
   ]
  },
  {
   "cell_type": "code",
   "execution_count": 4,
   "metadata": {},
   "outputs": [
    {
     "data": {
      "text/plain": [
       "(949544, 66913, 10000)"
      ]
     },
     "execution_count": 4,
     "metadata": {},
     "output_type": "execute_result"
    }
   ],
   "source": [
    "top_links = [link for link, c in link_counts.items() if c >= 3]\n",
    "link_to_idx = {link: idx for idx, link in enumerate(top_links)}\n",
    "movie_to_idx = {movie[0]: idx for idx, movie in enumerate(movies)}\n",
    "pairs = []\n",
    "for movie in movies:\n",
    "    pairs.extend((link_to_idx[link], movie_to_idx[movie[0]]) for link in movie[2] if link in link_to_idx)\n",
    "pairs_set = set(pairs)\n",
    "len(pairs), len(top_links), len(movie_to_idx)"
   ]
  },
  {
   "cell_type": "code",
   "execution_count": 5,
   "metadata": {},
   "outputs": [],
   "source": [
    "link = Input(name='link', shape=(1,))\n",
    "movie = Input(name='movie', shape=(1,))"
   ]
  },
  {
   "cell_type": "code",
   "execution_count": 6,
   "metadata": {},
   "outputs": [
    {
     "data": {
      "text/plain": [
       "<tf.Tensor 'link:0' shape=(?, 1) dtype=float32>"
      ]
     },
     "execution_count": 6,
     "metadata": {},
     "output_type": "execute_result"
    }
   ],
   "source": [
    "link"
   ]
  },
  {
   "cell_type": "code",
   "execution_count": 7,
   "metadata": {},
   "outputs": [
    {
     "data": {
      "text/plain": [
       "<tf.Tensor 'movie:0' shape=(?, 1) dtype=float32>"
      ]
     },
     "execution_count": 7,
     "metadata": {},
     "output_type": "execute_result"
    }
   ],
   "source": [
    "movie"
   ]
  },
  {
   "cell_type": "code",
   "execution_count": 8,
   "metadata": {},
   "outputs": [],
   "source": [
    "embedding_size=50"
   ]
  },
  {
   "cell_type": "code",
   "execution_count": 9,
   "metadata": {},
   "outputs": [],
   "source": [
    "link_embedding = Embedding(name='link_embedding', \n",
    "                               input_dim=len(top_links), \n",
    "                               output_dim=embedding_size)(link)"
   ]
  },
  {
   "cell_type": "code",
   "execution_count": 10,
   "metadata": {},
   "outputs": [
    {
     "data": {
      "text/plain": [
       "<tf.Tensor 'link_embedding/embedding_lookup:0' shape=(?, 1, 50) dtype=float32>"
      ]
     },
     "execution_count": 10,
     "metadata": {},
     "output_type": "execute_result"
    }
   ],
   "source": [
    "link_embedding"
   ]
  },
  {
   "cell_type": "code",
   "execution_count": 11,
   "metadata": {},
   "outputs": [],
   "source": [
    "movie_embedding = Embedding(name='movie_embedding', \n",
    "                                input_dim=len(movie_to_idx), \n",
    "                                output_dim=embedding_size)(movie)"
   ]
  },
  {
   "cell_type": "code",
   "execution_count": 12,
   "metadata": {},
   "outputs": [
    {
     "data": {
      "text/plain": [
       "<tf.Tensor 'movie_embedding/embedding_lookup:0' shape=(?, 1, 50) dtype=float32>"
      ]
     },
     "execution_count": 12,
     "metadata": {},
     "output_type": "execute_result"
    }
   ],
   "source": [
    "movie_embedding"
   ]
  },
  {
   "cell_type": "code",
   "execution_count": 13,
   "metadata": {},
   "outputs": [],
   "source": [
    "dot = Dot(name='dot_product', normalize=True, axes=2)([link_embedding, movie_embedding])"
   ]
  },
  {
   "cell_type": "code",
   "execution_count": 14,
   "metadata": {},
   "outputs": [
    {
     "data": {
      "text/plain": [
       "<tf.Tensor 'dot_product/MatMul:0' shape=(?, 1, 1) dtype=float32>"
      ]
     },
     "execution_count": 14,
     "metadata": {},
     "output_type": "execute_result"
    }
   ],
   "source": [
    "dot"
   ]
  },
  {
   "cell_type": "code",
   "execution_count": 15,
   "metadata": {},
   "outputs": [],
   "source": [
    "merged = Reshape((1,))(dot)"
   ]
  },
  {
   "cell_type": "code",
   "execution_count": 16,
   "metadata": {},
   "outputs": [
    {
     "data": {
      "text/plain": [
       "<tf.Tensor 'reshape_1/Reshape:0' shape=(?, 1) dtype=float32>"
      ]
     },
     "execution_count": 16,
     "metadata": {},
     "output_type": "execute_result"
    }
   ],
   "source": [
    "merged"
   ]
  },
  {
   "cell_type": "code",
   "execution_count": 17,
   "metadata": {},
   "outputs": [],
   "source": [
    "model = Model(inputs=[link, movie], outputs=[merged])"
   ]
  },
  {
   "cell_type": "code",
   "execution_count": 18,
   "metadata": {},
   "outputs": [
    {
     "data": {
      "text/plain": [
       "<keras.engine.training.Model at 0x1752878b908>"
      ]
     },
     "execution_count": 18,
     "metadata": {},
     "output_type": "execute_result"
    }
   ],
   "source": [
    "model"
   ]
  },
  {
   "cell_type": "code",
   "execution_count": 19,
   "metadata": {},
   "outputs": [
    {
     "name": "stdout",
     "output_type": "stream",
     "text": [
      "__________________________________________________________________________________________________\n",
      "Layer (type)                    Output Shape         Param #     Connected to                     \n",
      "==================================================================================================\n",
      "link (InputLayer)               (None, 1)            0                                            \n",
      "__________________________________________________________________________________________________\n",
      "movie (InputLayer)              (None, 1)            0                                            \n",
      "__________________________________________________________________________________________________\n",
      "link_embedding (Embedding)      (None, 1, 50)        3345650     link[0][0]                       \n",
      "__________________________________________________________________________________________________\n",
      "movie_embedding (Embedding)     (None, 1, 50)        500000      movie[0][0]                      \n",
      "__________________________________________________________________________________________________\n",
      "dot_product (Dot)               (None, 1, 1)         0           link_embedding[0][0]             \n",
      "                                                                 movie_embedding[0][0]            \n",
      "__________________________________________________________________________________________________\n",
      "reshape_2 (Reshape)             (None, 1)            0           dot_product[0][0]                \n",
      "==================================================================================================\n",
      "Total params: 3,845,650\n",
      "Trainable params: 3,845,650\n",
      "Non-trainable params: 0\n",
      "__________________________________________________________________________________________________\n"
     ]
    }
   ],
   "source": [
    "def movie_embedding_model(embedding_size=50):\n",
    "    link = Input(name='link', shape=(1,))\n",
    "    movie = Input(name='movie', shape=(1,))\n",
    "    link_embedding = Embedding(name='link_embedding', \n",
    "                               input_dim=len(top_links), \n",
    "                               output_dim=embedding_size)(link)\n",
    "    movie_embedding = Embedding(name='movie_embedding', \n",
    "                                input_dim=len(movie_to_idx), \n",
    "                                output_dim=embedding_size)(movie)\n",
    "    dot = Dot(name='dot_product', normalize=True, axes=2)([link_embedding, movie_embedding])\n",
    "    merged = Reshape((1,))(dot)\n",
    "    model = Model(inputs=[link, movie], outputs=[merged])\n",
    "    model.compile(optimizer='nadam', loss='mse')\n",
    "    return model\n",
    "\n",
    "model = movie_embedding_model()\n",
    "model.summary()"
   ]
  },
  {
   "cell_type": "code",
   "execution_count": 20,
   "metadata": {},
   "outputs": [],
   "source": [
    "positive_samples=3\n",
    "negative_ratio=2"
   ]
  },
  {
   "cell_type": "code",
   "execution_count": 21,
   "metadata": {},
   "outputs": [],
   "source": [
    "batch_size = positive_samples * (1 + negative_ratio)\n",
    "batch = np.zeros((batch_size, 3))"
   ]
  },
  {
   "cell_type": "code",
   "execution_count": 22,
   "metadata": {},
   "outputs": [
    {
     "data": {
      "text/plain": [
       "9"
      ]
     },
     "execution_count": 22,
     "metadata": {},
     "output_type": "execute_result"
    }
   ],
   "source": [
    "batch_size"
   ]
  },
  {
   "cell_type": "code",
   "execution_count": 23,
   "metadata": {},
   "outputs": [
    {
     "data": {
      "text/plain": [
       "array([[0., 0., 0.],\n",
       "       [0., 0., 0.],\n",
       "       [0., 0., 0.],\n",
       "       [0., 0., 0.],\n",
       "       [0., 0., 0.],\n",
       "       [0., 0., 0.],\n",
       "       [0., 0., 0.],\n",
       "       [0., 0., 0.],\n",
       "       [0., 0., 0.]])"
      ]
     },
     "execution_count": 23,
     "metadata": {},
     "output_type": "execute_result"
    }
   ],
   "source": [
    "batch"
   ]
  },
  {
   "cell_type": "code",
   "execution_count": 24,
   "metadata": {},
   "outputs": [],
   "source": [
    "random.seed(5)\n",
    "for idx, (link_id, movie_id) in enumerate(random.sample(pairs, positive_samples)):\n",
    "    batch[idx, :] = (link_id, movie_id, 1)\n",
    "idx = positive_samples\n",
    "while idx < batch_size:\n",
    "    movie_id = random.randrange(len(movie_to_idx))\n",
    "    link_id = random.randrange(len(top_links))\n",
    "    if not (link_id, movie_id) in pairs_set:\n",
    "        batch[idx, :] = (link_id, movie_id, -1)\n",
    "        idx += 1"
   ]
  },
  {
   "cell_type": "code",
   "execution_count": 25,
   "metadata": {},
   "outputs": [
    {
     "data": {
      "text/plain": [
       "[(31254, 5530), (22418, 1529), (1313, 7236)]"
      ]
     },
     "execution_count": 25,
     "metadata": {},
     "output_type": "execute_result"
    }
   ],
   "source": [
    "random.seed(5)\n",
    "random.sample(pairs, positive_samples)"
   ]
  },
  {
   "cell_type": "code",
   "execution_count": 26,
   "metadata": {},
   "outputs": [
    {
     "data": {
      "text/plain": [
       "array([[ 3.1254e+04,  5.5300e+03,  1.0000e+00],\n",
       "       [ 2.2418e+04,  1.5290e+03,  1.0000e+00],\n",
       "       [ 1.3130e+03,  7.2360e+03,  1.0000e+00],\n",
       "       [ 3.8010e+03,  5.8740e+03, -1.0000e+00],\n",
       "       [ 3.2643e+04,  7.6280e+03, -1.0000e+00],\n",
       "       [ 2.0558e+04,  8.4900e+02, -1.0000e+00],\n",
       "       [ 4.8731e+04,  1.8540e+03, -1.0000e+00],\n",
       "       [ 3.2318e+04,  7.6850e+03, -1.0000e+00],\n",
       "       [ 1.3365e+04,  6.2380e+03, -1.0000e+00]])"
      ]
     },
     "execution_count": 26,
     "metadata": {},
     "output_type": "execute_result"
    }
   ],
   "source": [
    "batch"
   ]
  },
  {
   "cell_type": "code",
   "execution_count": 27,
   "metadata": {},
   "outputs": [],
   "source": [
    "np.random.shuffle(batch)"
   ]
  },
  {
   "cell_type": "code",
   "execution_count": 28,
   "metadata": {},
   "outputs": [
    {
     "data": {
      "text/plain": [
       "array([[ 3.1254e+04,  5.5300e+03,  1.0000e+00],\n",
       "       [ 3.2643e+04,  7.6280e+03, -1.0000e+00],\n",
       "       [ 3.2318e+04,  7.6850e+03, -1.0000e+00],\n",
       "       [ 1.3365e+04,  6.2380e+03, -1.0000e+00],\n",
       "       [ 4.8731e+04,  1.8540e+03, -1.0000e+00],\n",
       "       [ 3.8010e+03,  5.8740e+03, -1.0000e+00],\n",
       "       [ 2.2418e+04,  1.5290e+03,  1.0000e+00],\n",
       "       [ 2.0558e+04,  8.4900e+02, -1.0000e+00],\n",
       "       [ 1.3130e+03,  7.2360e+03,  1.0000e+00]])"
      ]
     },
     "execution_count": 28,
     "metadata": {},
     "output_type": "execute_result"
    }
   ],
   "source": [
    "batch"
   ]
  },
  {
   "cell_type": "code",
   "execution_count": 36,
   "metadata": {},
   "outputs": [
    {
     "data": {
      "text/plain": [
       "({'link': array([ 1077., 16606., 20919., 18188., 23688., 53497., 23865.,   232.,\n",
       "          3718.]),\n",
       "  'movie': array([1476., 7288., 6380., 1178., 4858., 3550., 4579., 2166.,   39.])},\n",
       " array([ 1., -1., -1., -1.,  1., -1., -1., -1.,  1.]))"
      ]
     },
     "execution_count": 36,
     "metadata": {},
     "output_type": "execute_result"
    }
   ],
   "source": [
    "random.seed(5)\n",
    "\n",
    "def batchifier(pairs, positive_samples=50, negative_ratio=10):\n",
    "    batch_size = positive_samples * (1 + negative_ratio)\n",
    "    batch = np.zeros((batch_size, 3))\n",
    "    while True:\n",
    "        for idx, (link_id, movie_id) in enumerate(random.sample(pairs, positive_samples)):\n",
    "            batch[idx, :] = (link_id, movie_id, 1)\n",
    "        idx = positive_samples\n",
    "        while idx < batch_size:\n",
    "            movie_id = random.randrange(len(movie_to_idx))\n",
    "            link_id = random.randrange(len(top_links))\n",
    "            if not (link_id, movie_id) in pairs_set:\n",
    "                batch[idx, :] = (link_id, movie_id, -1)\n",
    "                idx += 1\n",
    "        np.random.shuffle(batch)\n",
    "        yield {'link': batch[:, 0], 'movie': batch[:, 1]}, batch[:, 2]\n",
    "\n",
    "next(batchifier(pairs, positive_samples=3, negative_ratio=2))"
   ]
  },
  {
   "cell_type": "code",
   "execution_count": 123,
   "metadata": {},
   "outputs": [
    {
     "data": {
      "text/plain": [
       "({'link': array([53497.,  3718.,  1077., 23865., 18188., 23688., 16606., 20919.,\n",
       "           232.]),\n",
       "  'movie': array([3550.,   39., 1476., 4579., 1178., 4858., 7288., 6380., 2166.])},\n",
       " array([-1.,  1.,  1., -1., -1.,  1., -1., -1., -1.]))"
      ]
     },
     "execution_count": 123,
     "metadata": {},
     "output_type": "execute_result"
    }
   ],
   "source": [
    "next(batchifier(pairs, positive_samples=3, negative_ratio=2))"
   ]
  },
  {
   "cell_type": "code",
   "execution_count": 124,
   "metadata": {},
   "outputs": [
    {
     "name": "stdout",
     "output_type": "stream",
     "text": [
      "Epoch 1/15\n",
      " - 61s - loss: 0.3825\n",
      "Epoch 2/15\n",
      " - 56s - loss: 0.2386\n",
      "Epoch 3/15\n",
      " - 55s - loss: 0.2302\n",
      "Epoch 4/15\n",
      " - 56s - loss: 0.2322\n",
      "Epoch 5/15\n",
      " - 56s - loss: 0.2289\n",
      "Epoch 6/15\n",
      " - 56s - loss: 0.2302\n",
      "Epoch 7/15\n",
      " - 57s - loss: 0.2270\n",
      "Epoch 8/15\n",
      " - 56s - loss: 0.2221\n",
      "Epoch 9/15\n",
      " - 56s - loss: 0.2237\n",
      "Epoch 10/15\n",
      " - 57s - loss: 0.2291\n",
      "Epoch 11/15\n",
      " - 57s - loss: 0.2313\n",
      "Epoch 12/15\n",
      " - 57s - loss: 0.2307\n",
      "Epoch 13/15\n",
      " - 56s - loss: 0.2295\n",
      "Epoch 14/15\n",
      " - 56s - loss: 0.2272\n",
      "Epoch 15/15\n",
      " - 55s - loss: 0.2266\n"
     ]
    },
    {
     "data": {
      "text/plain": [
       "<keras.callbacks.History at 0x21dd3222240>"
      ]
     },
     "execution_count": 124,
     "metadata": {},
     "output_type": "execute_result"
    }
   ],
   "source": [
    "positive_samples_per_batch = 512\n",
    "\n",
    "model.fit_generator(\n",
    "    batchifier(pairs, positive_samples=positive_samples_per_batch, negative_ratio=10),\n",
    "    epochs=15,\n",
    "    steps_per_epoch=len(pairs) // positive_samples_per_batch,\n",
    "    verbose=2\n",
    ")"
   ]
  },
  {
   "cell_type": "code",
   "execution_count": 130,
   "metadata": {},
   "outputs": [
    {
     "data": {
      "text/plain": [
       "<keras.layers.embeddings.Embedding at 0x21de9a125f8>"
      ]
     },
     "execution_count": 130,
     "metadata": {},
     "output_type": "execute_result"
    }
   ],
   "source": [
    "movie = model.get_layer('movie_embedding')\n",
    "movie"
   ]
  },
  {
   "cell_type": "code",
   "execution_count": 149,
   "metadata": {},
   "outputs": [
    {
     "data": {
      "text/plain": [
       "array([[ 0.26379415, -0.22333774, -0.0331103 , ...,  0.18464315,\n",
       "        -0.02784295,  0.74615806],\n",
       "       [ 0.09846909,  0.06137437,  0.16375858, ...,  0.25589433,\n",
       "         0.11824913,  0.7178061 ],\n",
       "       [ 0.30206013, -0.29089686,  0.10767684, ...,  0.18906458,\n",
       "         0.05846483,  0.7559275 ],\n",
       "       ...,\n",
       "       [ 0.2775771 , -0.2711294 ,  0.39649475, ...,  0.14147674,\n",
       "         0.04158561,  0.43394017],\n",
       "       [ 0.17378002, -0.05511739,  0.30222908, ...,  0.15900685,\n",
       "         0.04615842,  0.44815847],\n",
       "       [ 0.04863823, -0.26323783,  0.47113296, ...,  0.21209224,\n",
       "        -0.00139167,  0.4352032 ]], dtype=float32)"
      ]
     },
     "execution_count": 149,
     "metadata": {},
     "output_type": "execute_result"
    }
   ],
   "source": [
    "movie_weights = movie.get_weights()[0]\n",
    "movie_weights"
   ]
  },
  {
   "cell_type": "code",
   "execution_count": 156,
   "metadata": {},
   "outputs": [
    {
     "data": {
      "text/plain": [
       "(10000, 50)"
      ]
     },
     "execution_count": 156,
     "metadata": {},
     "output_type": "execute_result"
    }
   ],
   "source": [
    "movie_weights.shape"
   ]
  },
  {
   "cell_type": "code",
   "execution_count": 157,
   "metadata": {},
   "outputs": [
    {
     "data": {
      "text/plain": [
       "array([2.4923828, 2.265339 , 2.4108286, ..., 2.1687808, 2.0850282,\n",
       "       2.1820896], dtype=float32)"
      ]
     },
     "execution_count": 157,
     "metadata": {},
     "output_type": "execute_result"
    }
   ],
   "source": [
    "movie_lengths = np.linalg.norm(movie_weights, axis=1)\n",
    "movie_lengths"
   ]
  },
  {
   "cell_type": "code",
   "execution_count": 158,
   "metadata": {},
   "outputs": [
    {
     "data": {
      "text/plain": [
       "(10000,)"
      ]
     },
     "execution_count": 158,
     "metadata": {},
     "output_type": "execute_result"
    }
   ],
   "source": [
    "movie_lengths.shape"
   ]
  },
  {
   "cell_type": "code",
   "execution_count": 141,
   "metadata": {},
   "outputs": [
    {
     "data": {
      "text/plain": [
       "(10000, 50)"
      ]
     },
     "execution_count": 141,
     "metadata": {},
     "output_type": "execute_result"
    }
   ],
   "source": [
    "normalized_movies = (movie_weights.T / movie_lengths).T\n",
    "normalized_movies.shape"
   ]
  },
  {
   "cell_type": "code",
   "execution_count": 163,
   "metadata": {},
   "outputs": [
    {
     "data": {
      "text/plain": [
       "array([0.8965303 , 0.86427283, 0.88250107, ..., 0.6462473 , 0.5763124 ,\n",
       "       0.5632654 ], dtype=float32)"
      ]
     },
     "execution_count": 163,
     "metadata": {},
     "output_type": "execute_result"
    }
   ],
   "source": [
    "dists = np.dot(normalized_movies, normalized_movies[movie_to_idx['Rogue One']])\n",
    "dists"
   ]
  },
  {
   "cell_type": "code",
   "execution_count": 164,
   "metadata": {},
   "outputs": [
    {
     "data": {
      "text/plain": [
       "(10000,)"
      ]
     },
     "execution_count": 164,
     "metadata": {},
     "output_type": "execute_result"
    }
   ],
   "source": [
    "dists.shape"
   ]
  },
  {
   "cell_type": "code",
   "execution_count": 165,
   "metadata": {},
   "outputs": [
    {
     "data": {
      "text/plain": [
       "array([  37,  181,  659,   86,  372,  245,   25, 3349,   19,   29],\n",
       "      dtype=int64)"
      ]
     },
     "execution_count": 165,
     "metadata": {},
     "output_type": "execute_result"
    }
   ],
   "source": [
    "closest = np.argsort(dists)[-10:]\n",
    "closest"
   ]
  },
  {
   "cell_type": "code",
   "execution_count": 166,
   "metadata": {},
   "outputs": [
    {
     "name": "stdout",
     "output_type": "stream",
     "text": [
      "29 Rogue One 1.0\n",
      "19 Interstellar (film) 0.9799465\n",
      "3349 Star Wars: The Force Awakens 0.9721204\n",
      "25 Star Wars sequel trilogy 0.9651754\n",
      "245 Gravity (film) 0.9639311\n",
      "372 The Amazing Spider-Man (2012 film) 0.95943654\n",
      "86 Tomorrowland (film) 0.9583425\n",
      "659 Rise of the Planet of the Apes 0.95569175\n",
      "181 Pacific Rim (film) 0.95549285\n",
      "37 Avatar (2009 film) 0.9552629\n"
     ]
    }
   ],
   "source": [
    "movie = model.get_layer('movie_embedding')\n",
    "movie_weights = movie.get_weights()[0]\n",
    "movie_lengths = np.linalg.norm(movie_weights, axis=1)\n",
    "normalized_movies = (movie_weights.T / movie_lengths).T\n",
    "\n",
    "def similar_movies(movie):\n",
    "    dists = np.dot(normalized_movies, normalized_movies[movie_to_idx[movie]])\n",
    "    closest = np.argsort(dists)[-10:]\n",
    "    for c in reversed(closest):\n",
    "        print(c, movies[c][0], dists[c])\n",
    "\n",
    "similar_movies('Rogue One')"
   ]
  },
  {
   "cell_type": "code",
   "execution_count": 167,
   "metadata": {},
   "outputs": [
    {
     "name": "stdout",
     "output_type": "stream",
     "text": [
      "127 George Lucas 0.9999999\n",
      "2707 Star Wars 0.9561926\n",
      "4830 widescreen 0.9381799\n",
      "3176 Star Wars (film) 0.9367047\n",
      "976 Hugo Award for Best Dramatic Presentation 0.92060775\n",
      "2778 Lucasfilm 0.9080174\n",
      "2931 LaserDisc 0.8984472\n",
      "2829 storyboard 0.89684695\n",
      "1732 Academy Award for Best Visual Effects 0.89381385\n",
      "4051 novelization 0.8928862\n"
     ]
    }
   ],
   "source": [
    "link = model.get_layer('link_embedding')\n",
    "link_weights = link.get_weights()[0]\n",
    "link_lengths = np.linalg.norm(link_weights, axis=1)\n",
    "normalized_links = (link_weights.T / link_lengths).T\n",
    "\n",
    "def similar_links(link):\n",
    "    dists = np.dot(normalized_links, normalized_links[link_to_idx[link]])\n",
    "    closest = np.argsort(dists)[-10:]\n",
    "    for c in reversed(closest):\n",
    "        print(c, top_links[c], dists[c])\n",
    "\n",
    "similar_links('George Lucas')"
   ]
  },
  {
   "cell_type": "code",
   "execution_count": 168,
   "metadata": {},
   "outputs": [
    {
     "data": {
      "text/plain": [
       "(16, 50)"
      ]
     },
     "execution_count": 168,
     "metadata": {},
     "output_type": "execute_result"
    }
   ],
   "source": [
    "best = ['Star Wars: The Force Awakens', 'The Martian (film)', 'Tangerine (film)', 'Straight Outta Compton (film)',\n",
    "        'Brooklyn (film)', 'Carol (film)', 'Spotlight (film)']\n",
    "worst = ['American Ultra', 'The Cobbler (2014 film)', 'Entourage (film)', 'Fantastic Four (2015 film)',\n",
    "         'Get Hard', 'Hot Pursuit (2015 film)', 'Mortdecai (film)', 'Serena (2014 film)', 'Vacation (2015 film)']\n",
    "y = np.asarray([1 for _ in best] + [0 for _ in worst])\n",
    "X = np.asarray([normalized_movies[movie_to_idx[movie]] for movie in best + worst])\n",
    "X.shape"
   ]
  },
  {
   "cell_type": "code",
   "execution_count": 169,
   "metadata": {},
   "outputs": [
    {
     "data": {
      "text/plain": [
       "array([1, 1, 1, 1, 1, 1, 1, 0, 0, 0, 0, 0, 0, 0, 0, 0])"
      ]
     },
     "execution_count": 169,
     "metadata": {},
     "output_type": "execute_result"
    }
   ],
   "source": [
    "y"
   ]
  },
  {
   "cell_type": "code",
   "execution_count": 172,
   "metadata": {},
   "outputs": [
    {
     "data": {
      "text/plain": [
       "SVC(C=1.0, cache_size=200, class_weight=None, coef0=0.0,\n",
       "  decision_function_shape='ovr', degree=3, gamma='auto_deprecated',\n",
       "  kernel='linear', max_iter=-1, probability=False, random_state=None,\n",
       "  shrinking=True, tol=0.001, verbose=False)"
      ]
     },
     "execution_count": 172,
     "metadata": {},
     "output_type": "execute_result"
    }
   ],
   "source": [
    "clf = svm.SVC(kernel='linear')\n",
    "clf.fit(X, y)"
   ]
  },
  {
   "cell_type": "code",
   "execution_count": 175,
   "metadata": {},
   "outputs": [
    {
     "data": {
      "text/plain": [
       "array([-0.06298117,  0.52314811, -0.02402084, ..., -1.03483197,\n",
       "       -0.87033811, -0.88188471])"
      ]
     },
     "execution_count": 175,
     "metadata": {},
     "output_type": "execute_result"
    }
   ],
   "source": [
    "estimated_movie_ratings = clf.decision_function(normalized_movies)\n",
    "estimated_movie_ratings"
   ]
  },
  {
   "cell_type": "code",
   "execution_count": 176,
   "metadata": {},
   "outputs": [
    {
     "data": {
      "text/plain": [
       "(10000,)"
      ]
     },
     "execution_count": 176,
     "metadata": {},
     "output_type": "execute_result"
    }
   ],
   "source": [
    "estimated_movie_ratings.shape"
   ]
  },
  {
   "cell_type": "code",
   "execution_count": 177,
   "metadata": {},
   "outputs": [
    {
     "data": {
      "text/plain": [
       "array([1782, 6565, 5097, ...,  307,   66,  481], dtype=int64)"
      ]
     },
     "execution_count": 177,
     "metadata": {},
     "output_type": "execute_result"
    }
   ],
   "source": [
    "best = np.argsort(estimated_movie_ratings)\n",
    "best"
   ]
  },
  {
   "cell_type": "code",
   "execution_count": 173,
   "metadata": {},
   "outputs": [
    {
     "name": "stdout",
     "output_type": "stream",
     "text": [
      "best:\n",
      "481 The Devil Wears Prada (film) 1.268666378510092\n",
      "66 Skyfall 1.250339611102597\n",
      "307 Les Misérables (2012 film) 1.1020438465534914\n",
      "458 Hugo (film) 1.1013963012486419\n",
      "18 Star Wars (film) 1.0508558368266598\n",
      "worst:\n",
      "1782 Scooby-Doo! WrestleMania Mystery -1.6151670621457392\n",
      "6565 Son in Law -1.5452021357874368\n",
      "5097 Ready to Rumble -1.5390608041800808\n",
      "8559 Air Buddies -1.5285885448194856\n",
      "9595 Speed Zone -1.5273252976931886\n"
     ]
    }
   ],
   "source": [
    "estimated_movie_ratings = clf.decision_function(normalized_movies)\n",
    "best = np.argsort(estimated_movie_ratings)\n",
    "print('best:')\n",
    "for c in reversed(best[-5:]):\n",
    "    print(c, movies[c][0], estimated_movie_ratings[c])\n",
    "\n",
    "print('worst:')\n",
    "for c in best[:5]:\n",
    "    print(c, movies[c][0], estimated_movie_ratings[c])"
   ]
  },
  {
   "cell_type": "code",
   "execution_count": 187,
   "metadata": {},
   "outputs": [
    {
     "data": {
      "text/plain": [
       "['Deadpool (film)',\n",
       " {'image': 'Deadpool poster.jpg',\n",
       "  'name': 'Deadpool',\n",
       "  'cinematography': 'Ken Seng',\n",
       "  'Software Used': 'Adobe Premier Pro',\n",
       "  'alt': \"Official poster shows the titular hero Deadpool standing in front of the viewers, with hugging his hands, and donning his traditional black and red suit and mask, and the film's name, credits and billing below him.\",\n",
       "  'distributor': '20th Century Fox',\n",
       "  'caption': 'Theatrical release poster',\n",
       "  'gross': '$783.1 million',\n",
       "  'country': 'United States',\n",
       "  'director': 'Tim Miller',\n",
       "  'runtime': '108 minutes',\n",
       "  'editing': 'Julian Clarke',\n",
       "  'language': 'English',\n",
       "  'music': 'Tom Holkenborg',\n",
       "  'budget': '$58 million'},\n",
       " ['Tim Miller (director)',\n",
       "  'Simon Kinberg',\n",
       "  'Ryan Reynolds',\n",
       "  'Lauren Shuler Donner',\n",
       "  'Rhett Reese',\n",
       "  'Paul Wernick',\n",
       "  'Deadpool',\n",
       "  'Fabian Nicieza',\n",
       "  'Rob Liefeld',\n",
       "  'Morena Baccarin',\n",
       "  'Ed Skrein',\n",
       "  'T.J. Miller',\n",
       "  'Gina Carano',\n",
       "  'Leslie Uggams',\n",
       "  'Brianna Hildebrand',\n",
       "  'Stefan Kapičić',\n",
       "  'Junkie XL',\n",
       "  'Julian Clarke',\n",
       "  'Marvel Entertainment',\n",
       "  'Kinberg Genre',\n",
       "  'Lauren Shuler Donner',\n",
       "  'TSG Entertainment',\n",
       "  '20th Century Fox',\n",
       "  'Le Grand Rex',\n",
       "  'Variety (magazine)',\n",
       "  'Box Office Mojo',\n",
       "  'superhero film',\n",
       "  'Tim Miller (director)',\n",
       "  'Rhett Reese',\n",
       "  'Paul Wernick',\n",
       "  'Marvel Comics',\n",
       "  'Deadpool',\n",
       "  'X-Men (film series)',\n",
       "  'Ryan Reynolds',\n",
       "  'Morena Baccarin',\n",
       "  'Ed Skrein',\n",
       "  'T.J. Miller',\n",
       "  'Gina Carano',\n",
       "  'Leslie Uggams',\n",
       "  'Brianna Hildebrand',\n",
       "  'Stefan Kapičić',\n",
       "  'antihero',\n",
       "  'New Line Cinema',\n",
       "  '20th Century Fox',\n",
       "  'X-Men Origins: Wolverine',\n",
       "  'principal photography',\n",
       "  'Vancouver',\n",
       "  'IMAX',\n",
       "  'Digital Light Processing',\n",
       "  'D-Box Technologies',\n",
       "  'List of accolades received by Deadpool (film)',\n",
       "  'Golden Globe Award',\n",
       "  'Golden Globe Award for Best Motion Picture – Musical or Comedy',\n",
       "  'Golden Globe Award for Best Actor – Motion Picture Musical or Comedy',\n",
       "  'Producers Guild of America Award',\n",
       "  \"Critics' Choice Movie Awards\",\n",
       "  \"Critics' Choice Movie Award for Best Comedy\",\n",
       "  \"Critics' Choice Movie Award for Best Actor in a Comedy\",\n",
       "  '2016 in film',\n",
       "  '#Sequels',\n",
       "  'nonlinear narrative',\n",
       "  'Deadpool',\n",
       "  'special forces',\n",
       "  'Copycat (Marvel Comics)',\n",
       "  'Liver cancer',\n",
       "  'Lung cancer',\n",
       "  'Prostate cancer',\n",
       "  'Brain tumor',\n",
       "  'Ajax (comics)#Deadpool character',\n",
       "  'Angel Dust (comics)',\n",
       "  'healing factor',\n",
       "  'rebar',\n",
       "  'Weasel (Marvel Comics)',\n",
       "  'Blind Al',\n",
       "  'Colossus (comics)',\n",
       "  'Negasonic Teenage Warhead',\n",
       "  'X-Men',\n",
       "  'helicarrier',\n",
       "  'post-credits scene',\n",
       "  'Cable (comics)',\n",
       "  'File:Cast of Deadpool.jpg',\n",
       "  'San Diego Comic-Con',\n",
       "  'Ryan Reynolds',\n",
       "  'Deadpool',\n",
       "  'cancer',\n",
       "  'X-Men Origins: Wolverine',\n",
       "  'fourth wall',\n",
       "  'Morena Baccarin',\n",
       "  'Copycat (Marvel Comics)',\n",
       "  'damsel in distress',\n",
       "  'Ed Skrein',\n",
       "  'Ajax (comics)#Deadpool character',\n",
       "  'Weapon X',\n",
       "  'YouTube',\n",
       "  'Tim Miller (director)',\n",
       "  'T.J. Miller',\n",
       "  'Weasel (Marvel Comics)',\n",
       "  'Simon Kinberg',\n",
       "  'USA Today',\n",
       "  'Gina Carano',\n",
       "  'Angel Dust (comics)',\n",
       "  'Leslie Uggams',\n",
       "  'Blind Al',\n",
       "  'Indiewire',\n",
       "  'Brianna Hildebrand',\n",
       "  'Negasonic Teenage Warhead',\n",
       "  'X-Men',\n",
       "  'Marvel Studios',\n",
       "  'Kevin Feige',\n",
       "  'Ego the Living Planet',\n",
       "  'Guardians of the Galaxy Vol. 2',\n",
       "  'Stefan Kapičić',\n",
       "  'Colossus (comics)',\n",
       "  'Daniel Cudmore',\n",
       "  'X2 (film)',\n",
       "  'X-Men: The Last Stand',\n",
       "  'X-Men: Days of Future Past',\n",
       "  'Andre Tricoteux',\n",
       "  'Karan Soni',\n",
       "  'Jed Rees',\n",
       "  'Agent Smith',\n",
       "  'Stan Lee',\n",
       "  'Rob Liefeld',\n",
       "  'Isaac C. Singleton Jr.',\n",
       "  'Bob, Agent of Hydra',\n",
       "  'Hydra (comics)',\n",
       "  'Nathan Fillion',\n",
       "  'Twitter',\n",
       "  'Simon Kinberg',\n",
       "  'Artisan Entertainment',\n",
       "  'Marvel Entertainment',\n",
       "  'Deadpool',\n",
       "  'New Line Cinema',\n",
       "  'David S. Goyer',\n",
       "  'Ryan Reynolds',\n",
       "  'Shar Pei',\n",
       "  'Cable & Deadpool',\n",
       "  'Turnaround (filmmaking)',\n",
       "  'X-Men Origins: Wolverine',\n",
       "  'Lauren Shuler Donner',\n",
       "  'Reboot (fiction)',\n",
       "  'fourth wall',\n",
       "  'Rhett Reese',\n",
       "  'Paul Wernick',\n",
       "  'Robert Rodriguez',\n",
       "  'Tim Miller (director)',\n",
       "  'Adam Berg (director)',\n",
       "  'Blur Studio',\n",
       "  'James Cameron',\n",
       "  'David Fincher',\n",
       "  'development hell',\n",
       "  'Garrison Kane',\n",
       "  'Cannonball (comics)',\n",
       "  'Computer-generated imagery',\n",
       "  'Hillbilly',\n",
       "  'Wyre (comics)',\n",
       "  'Angel Dust (comics)',\n",
       "  'Cable (comics)',\n",
       "  'List of directorial debuts',\n",
       "  'Colossus (comics)',\n",
       "  'Simon Kinberg',\n",
       "  'The Hollywood Reporter',\n",
       "  'T. J. Miller',\n",
       "  'Ed Skrein',\n",
       "  'Gina Carano',\n",
       "  'Angel Dust (comics)',\n",
       "  'Morena Baccarin',\n",
       "  'Taylor Schilling',\n",
       "  'Crystal Reed',\n",
       "  'Rebecca Rittenhouse',\n",
       "  'Sarah Greene (actress)',\n",
       "  'Jessica De Gouw',\n",
       "  'Weasel (Marvel Comics)',\n",
       "  'Copycat (Marvel Comics)',\n",
       "  'Brianna Hildebrand',\n",
       "  'Negasonic Teenage Warhead',\n",
       "  'Ajax (comics)#Deadpool character',\n",
       "  'Leslie Uggams',\n",
       "  'Blind Al',\n",
       "  'Jed Rees',\n",
       "  'Stefan Kapičić',\n",
       "  'Colossus (comics)',\n",
       "  'Daniel Cudmore',\n",
       "  'Twitter',\n",
       "  'File:Deadpool, Georgia Viaduct, Vancouver, April 6 2015 - 3.jpg',\n",
       "  'Rolling Stone',\n",
       "  'Principal photography',\n",
       "  'Vancouver',\n",
       "  'stunt coordinator',\n",
       "  'CBC News',\n",
       "  'David Cronenberg',\n",
       "  'Eastern Promises',\n",
       "  'Yahoo! Movies',\n",
       "  'Digital Domain',\n",
       "  'Weta Digital',\n",
       "  'Rodeo FX',\n",
       "  'Luma Pictures',\n",
       "  'Image Engine',\n",
       "  'Adobe Systems',\n",
       "  'matte paintings',\n",
       "  'helicarrier',\n",
       "  'Detroit',\n",
       "  'Chicago',\n",
       "  'File:Colossus - mocap.jpg',\n",
       "  'Colossus (comics)',\n",
       "  'Computer-generated imagery',\n",
       "  'Digital Domain',\n",
       "  'Cold-formed steel',\n",
       "  'Hot working',\n",
       "  'Taxicab',\n",
       "  'Junkie XL',\n",
       "  'ARP 2600',\n",
       "  'Synclavier',\n",
       "  'Oberheim Electronics#Oberheim polyphonic synthesizers',\n",
       "  'io9',\n",
       "  'YouTube personality',\n",
       "  'Deadpool (video game)',\n",
       "  'Milan Records',\n",
       "  'Grand Rex',\n",
       "  'IMAX',\n",
       "  'Digital Light Processing',\n",
       "  'D-Box Technologies',\n",
       "  'The Hollywood Reporter',\n",
       "  'Uzbekistan',\n",
       "  'Central Board of Film Certification',\n",
       "  'The Hollywood Reporter',\n",
       "  'Hong Kong',\n",
       "  'Singapore',\n",
       "  'standing ovation',\n",
       "  'The Hollywood Reporter',\n",
       "  'Meta-joke',\n",
       "  'Business Insider',\n",
       "  'viral marketing',\n",
       "  'Christmas',\n",
       "  \"Valentine's Day\",\n",
       "  'io9',\n",
       "  'emoji',\n",
       "  'YouTube',\n",
       "  'Screen Junkies',\n",
       "  'The Guardian',\n",
       "  'Blu-ray',\n",
       "  '2016 in film',\n",
       "  'The Matrix Reloaded',\n",
       "  'Forbes',\n",
       "  'Variety (magazine)',\n",
       "  'X-Men: Days of Future Past',\n",
       "  'Deadline.com',\n",
       "  'James Cameron',\n",
       "  'George Lucas',\n",
       "  'Star Wars: Episode III – Revenge of the Sith',\n",
       "  'The Dark Knight Rises',\n",
       "  'The Hollywood Reporter',\n",
       "  'IMAX',\n",
       "  '3D film',\n",
       "  'Los Angeles Times',\n",
       "  'Yahoo!',\n",
       "  'Variety (magazine)',\n",
       "  'Forbes (magazine)',\n",
       "  \"Presidents' Day (United States)\",\n",
       "  'Zoolander 2',\n",
       "  'How to Be Single',\n",
       "  'The Hollywood Reporter',\n",
       "  'Deadline.com',\n",
       "  'Variety (magazine)',\n",
       "  'Guardians of the Galaxy (film)',\n",
       "  'Captain America: The Winter Soldier',\n",
       "  'The Hollywood Reporter',\n",
       "  'Deadline.com',\n",
       "  'R-rated',\n",
       "  'The Hangover Part II',\n",
       "  'Fifty Shades of Grey (film)',\n",
       "  'The Hollywood Reporter',\n",
       "  'Deadline.com',\n",
       "  'word of mouth',\n",
       "  'Star Wars: Episode III – Revenge of the Sith',\n",
       "  'Forbes',\n",
       "  'Century Theatres',\n",
       "  'Deadline.com',\n",
       "  'The Hollywood Reporter',\n",
       "  'The Avengers (2012 film)',\n",
       "  'The Hunger Games (film)',\n",
       "  'Forbes (magazine)',\n",
       "  'Furious 7',\n",
       "  'Alice in Wonderland (2010 film)',\n",
       "  'Wanted (2008 film)',\n",
       "  'Watchmen (film)',\n",
       "  'The Vow (2012 film)',\n",
       "  'X-Men (film)',\n",
       "  'X-Men: First Class',\n",
       "  'The Wolverine (film)',\n",
       "  'X-Men Origins: Wolverine',\n",
       "  'Deadline.com',\n",
       "  'Second weekend in box office performance',\n",
       "  'Avengers: Age of Ultron',\n",
       "  'X-Men: The Last Stand',\n",
       "  '300 (film)',\n",
       "  'Forbes',\n",
       "  'The Passion of the Christ',\n",
       "  'Forbes',\n",
       "  'Zootopia',\n",
       "  'London Has Fallen',\n",
       "  'Non-Hispanic whites',\n",
       "  'Hispanic',\n",
       "  'African-American',\n",
       "  'Asian Americans',\n",
       "  'Guardians of the Galaxy (film)',\n",
       "  'Captain America: Civil War',\n",
       "  'Avengers: Age of Ultron',\n",
       "  'Batman v Superman: Dawn of Justice',\n",
       "  'Suicide Squad (film)',\n",
       "  'The Hollywood Reporter',\n",
       "  'Spectre (2015)',\n",
       "  'United Kingdom and Ireland',\n",
       "  'Chinese New Year',\n",
       "  'Hong Kong',\n",
       "  'Singapore',\n",
       "  'The Mermaid (2016 film)',\n",
       "  'Deadline.com',\n",
       "  'Ip Man 3',\n",
       "  'Zootopia',\n",
       "  'Iron Man 3',\n",
       "  'Star Wars: The Force Awakens',\n",
       "  'Rotten Tomatoes',\n",
       "  'Rotten Tomatoes',\n",
       "  'Metacritic',\n",
       "  'CinemaScore',\n",
       "  'Peter Travers',\n",
       "  'Rolling Stone',\n",
       "  'Rolling Stone',\n",
       "  'TheWrap',\n",
       "  'Alonso Duralde',\n",
       "  'Guardians of the Galaxy (film)',\n",
       "  'Christy Lemire',\n",
       "  'Richard Roeper',\n",
       "  'Chicago Sun-Times',\n",
       "  'Kenneth Turan',\n",
       "  'Los Angeles Times',\n",
       "  'Los Angeles Times',\n",
       "  'The Hollywood Reporter',\n",
       "  'Deadline.com',\n",
       "  'Spider-Man',\n",
       "  'Superhero Hype',\n",
       "  '/Film',\n",
       "  'Domino (comics)',\n",
       "  'TheWrap',\n",
       "  'Mashable',\n",
       "  'David Leitch (filmmaker)',\n",
       "  'Rupert Sanders',\n",
       "  'Drew Goddard',\n",
       "  'Mashable',\n",
       "  'X-Force',\n",
       "  'Hugh Jackman',\n",
       "  'Twitter',\n",
       "  'Variety (magazine)',\n",
       "  'The Hollywood Reporter',\n",
       "  'British Board of Film Classification',\n",
       "  'Los Angeles Times',\n",
       "  'Variety (magazine)',\n",
       "  'MTV News',\n",
       "  'Empire (film magazine)',\n",
       "  'The Hollywood Reporter',\n",
       "  'Variety (magazine)',\n",
       "  'The Daily Dot',\n",
       "  'Bleeding Cool',\n",
       "  'The Hollywood Reporter',\n",
       "  'TheWrap',\n",
       "  'The Hollywood Reporter',\n",
       "  'Variety (magazine)',\n",
       "  'Entertainment Weekly',\n",
       "  'Deadline.com',\n",
       "  'MTV News',\n",
       "  'Deadline.com',\n",
       "  'Business Insider',\n",
       "  'The Hollywood Reporter',\n",
       "  'Twitter',\n",
       "  'Empire (magazine)',\n",
       "  'fxguide',\n",
       "  'Category:20th Century Fox films',\n",
       "  'Category:2010s action films',\n",
       "  'Category:2010s comedy films',\n",
       "  'Category:2010s superhero films',\n",
       "  'Category:2016 films',\n",
       "  'Category:American action comedy films',\n",
       "  'Category:American black comedy films',\n",
       "  'Category:American films',\n",
       "  'Category:Deadpool',\n",
       "  'Category:Directorial debut films',\n",
       "  'Category:English-language films',\n",
       "  'Category:Film scores by Junkie XL',\n",
       "  'Category:Film spin-offs',\n",
       "  'Category:Films about cancer',\n",
       "  'Category:Films about revenge',\n",
       "  'Category:Films directed by Tim Miller',\n",
       "  'Category:Films set in New York',\n",
       "  'Category:Films shot in Vancouver',\n",
       "  'Category:Films with live action and animation',\n",
       "  'Category:Human experimentation in fiction',\n",
       "  'Category:IMAX films',\n",
       "  'Category:Metafictional works',\n",
       "  'Category:Nonlinear narrative films',\n",
       "  'Category:Performance capture in film',\n",
       "  'Category:Self-reflexive films',\n",
       "  'Category:Superhero comedy films',\n",
       "  'Category:Vigilante films',\n",
       "  'Category:X-Men films'],\n",
       " '84%',\n",
       " '6.9/10']"
      ]
     },
     "execution_count": 187,
     "metadata": {},
     "output_type": "execute_result"
    }
   ],
   "source": [
    "movies[0]"
   ]
  },
  {
   "cell_type": "code",
   "execution_count": 178,
   "metadata": {},
   "outputs": [
    {
     "data": {
      "text/plain": [
       "array([0.84, 0.82, 0.26, ..., 0.61, 0.88, 0.78])"
      ]
     },
     "execution_count": 178,
     "metadata": {},
     "output_type": "execute_result"
    }
   ],
   "source": [
    "rotten_y = np.asarray([float(movie[-2][:-1]) / 100 for movie in movies if movie[-2]])\n",
    "rotten_y"
   ]
  },
  {
   "cell_type": "code",
   "execution_count": 179,
   "metadata": {},
   "outputs": [
    {
     "data": {
      "text/plain": [
       "(5584,)"
      ]
     },
     "execution_count": 179,
     "metadata": {},
     "output_type": "execute_result"
    }
   ],
   "source": [
    "rotten_y.shape"
   ]
  },
  {
   "cell_type": "code",
   "execution_count": 180,
   "metadata": {},
   "outputs": [
    {
     "data": {
      "text/plain": [
       "array([[ 0.10584015, -0.08960813, -0.0132846 , ...,  0.07408299,\n",
       "        -0.01117122,  0.29937539],\n",
       "       [ 0.04346771,  0.0270928 ,  0.07228877, ...,  0.11296073,\n",
       "         0.05219931,  0.3168648 ],\n",
       "       [ 0.12529308, -0.12066261,  0.04466383, ...,  0.07842307,\n",
       "         0.02425093,  0.31355506],\n",
       "       ...,\n",
       "       [ 0.14276731, -0.05943922,  0.26689276, ..., -0.00549476,\n",
       "         0.01635706,  0.2739983 ],\n",
       "       [-0.01881318, -0.00738083,  0.26481667, ...,  0.06428229,\n",
       "         0.11268511,  0.28709304],\n",
       "       [ 0.02228975, -0.12063567,  0.21590908, ...,  0.09719685,\n",
       "        -0.00063777,  0.19944333]], dtype=float32)"
      ]
     },
     "execution_count": 180,
     "metadata": {},
     "output_type": "execute_result"
    }
   ],
   "source": [
    "rotten_X = np.asarray([normalized_movies[movie_to_idx[movie[0]]] for movie in movies if movie[-2]])\n",
    "rotten_X"
   ]
  },
  {
   "cell_type": "code",
   "execution_count": 181,
   "metadata": {},
   "outputs": [
    {
     "data": {
      "text/plain": [
       "(5584, 50)"
      ]
     },
     "execution_count": 181,
     "metadata": {},
     "output_type": "execute_result"
    }
   ],
   "source": [
    "rotten_X.shape"
   ]
  },
  {
   "cell_type": "code",
   "execution_count": 188,
   "metadata": {},
   "outputs": [],
   "source": [
    "rotten_y = np.asarray([float(movie[-2][:-1]) / 100 for movie in movies if movie[-2]])\n",
    "rotten_X = np.asarray([normalized_movies[movie_to_idx[movie[0]]] for movie in movies if movie[-2]])"
   ]
  },
  {
   "cell_type": "code",
   "execution_count": 192,
   "metadata": {},
   "outputs": [
    {
     "data": {
      "text/plain": [
       "4467"
      ]
     },
     "execution_count": 192,
     "metadata": {},
     "output_type": "execute_result"
    }
   ],
   "source": [
    "TRAINING_CUT_OFF = int(len(rotten_X) * 0.8)\n",
    "TRAINING_CUT_OFF"
   ]
  },
  {
   "cell_type": "code",
   "execution_count": 193,
   "metadata": {},
   "outputs": [
    {
     "data": {
      "text/plain": [
       "array([[ 0.10584015, -0.08960813, -0.0132846 , ...,  0.07408299,\n",
       "        -0.01117122,  0.29937539],\n",
       "       [ 0.04346771,  0.0270928 ,  0.07228877, ...,  0.11296073,\n",
       "         0.05219931,  0.3168648 ],\n",
       "       [ 0.12529308, -0.12066261,  0.04466383, ...,  0.07842307,\n",
       "         0.02425093,  0.31355506],\n",
       "       ...,\n",
       "       [ 0.04125948, -0.12770237,  0.21334249, ...,  0.14296196,\n",
       "         0.00181898,  0.24280527],\n",
       "       [ 0.12008058, -0.09832337,  0.23343502, ...,  0.05394334,\n",
       "         0.0386282 ,  0.20845838],\n",
       "       [ 0.12736519, -0.10409003,  0.20142396, ...,  0.06404588,\n",
       "         0.00995082,  0.22289185]], dtype=float32)"
      ]
     },
     "execution_count": 193,
     "metadata": {},
     "output_type": "execute_result"
    }
   ],
   "source": [
    "rotten_X[:TRAINING_CUT_OFF]"
   ]
  },
  {
   "cell_type": "code",
   "execution_count": 194,
   "metadata": {},
   "outputs": [
    {
     "data": {
      "text/plain": [
       "(4467, 50)"
      ]
     },
     "execution_count": 194,
     "metadata": {},
     "output_type": "execute_result"
    }
   ],
   "source": [
    "rotten_X[:TRAINING_CUT_OFF].shape"
   ]
  },
  {
   "cell_type": "code",
   "execution_count": 189,
   "metadata": {},
   "outputs": [
    {
     "data": {
      "text/plain": [
       "LinearRegression(copy_X=True, fit_intercept=True, n_jobs=None,\n",
       "         normalize=False)"
      ]
     },
     "execution_count": 189,
     "metadata": {},
     "output_type": "execute_result"
    }
   ],
   "source": [
    "TRAINING_CUT_OFF = int(len(rotten_X) * 0.8)\n",
    "regr = LinearRegression()\n",
    "regr.fit(rotten_X[:TRAINING_CUT_OFF], rotten_y[:TRAINING_CUT_OFF])"
   ]
  },
  {
   "cell_type": "code",
   "execution_count": 197,
   "metadata": {},
   "outputs": [
    {
     "data": {
      "text/plain": [
       "(4467,)"
      ]
     },
     "execution_count": 197,
     "metadata": {},
     "output_type": "execute_result"
    }
   ],
   "source": [
    "rotten_y[:TRAINING_CUT_OFF].shape"
   ]
  },
  {
   "cell_type": "code",
   "execution_count": 362,
   "metadata": {},
   "outputs": [
    {
     "data": {
      "text/plain": [
       "(1117,)"
      ]
     },
     "execution_count": 362,
     "metadata": {},
     "output_type": "execute_result"
    }
   ],
   "source": [
    "rotten_y[TRAINING_CUT_OFF:].shape"
   ]
  },
  {
   "cell_type": "code",
   "execution_count": 363,
   "metadata": {},
   "outputs": [
    {
     "data": {
      "text/plain": [
       "'mean square error 0.06'"
      ]
     },
     "execution_count": 363,
     "metadata": {},
     "output_type": "execute_result"
    }
   ],
   "source": [
    "error = (regr.predict(rotten_X[TRAINING_CUT_OFF:]) - rotten_y[TRAINING_CUT_OFF:])\n",
    "'mean square error %2.2f' % np.mean(error ** 2)"
   ]
  },
  {
   "cell_type": "code",
   "execution_count": 364,
   "metadata": {},
   "outputs": [
    {
     "data": {
      "text/plain": [
       "array([0.81741446, 0.5978348 , 0.36409116, ..., 0.77334124, 0.67653215,\n",
       "       0.6384487 ], dtype=float32)"
      ]
     },
     "execution_count": 364,
     "metadata": {},
     "output_type": "execute_result"
    }
   ],
   "source": [
    "regr.predict(rotten_X[TRAINING_CUT_OFF:])"
   ]
  },
  {
   "cell_type": "code",
   "execution_count": 365,
   "metadata": {},
   "outputs": [
    {
     "data": {
      "text/plain": [
       "array([-0.27697784, -0.06697784,  0.19302216, ..., -0.00697784,\n",
       "       -0.27697784, -0.17697784])"
      ]
     },
     "execution_count": 365,
     "metadata": {},
     "output_type": "execute_result"
    }
   ],
   "source": [
    "error = (np.mean(rotten_y[:TRAINING_CUT_OFF]) - rotten_y[TRAINING_CUT_OFF:])\n",
    "error"
   ]
  },
  {
   "cell_type": "code",
   "execution_count": 366,
   "metadata": {},
   "outputs": [
    {
     "data": {
      "text/plain": [
       "'mean square error 0.09'"
      ]
     },
     "execution_count": 366,
     "metadata": {},
     "output_type": "execute_result"
    }
   ],
   "source": [
    "error = (np.mean(rotten_y[:TRAINING_CUT_OFF]) - rotten_y[TRAINING_CUT_OFF:])\n",
    "'mean square error %2.2f' % np.mean(error ** 2)"
   ]
  },
  {
   "cell_type": "code",
   "execution_count": 367,
   "metadata": {},
   "outputs": [
    {
     "name": "stdout",
     "output_type": "stream",
     "text": [
      "6 The Martian (film) 10900.0\n",
      "7 List of Marvel Cinematic Universe films 4300.0\n",
      "49 Back to the Future 3900.0\n",
      "71 The Conjuring 2932.0\n",
      "162 Thor (film) 2464.0\n",
      "36 Furious 7 2340.0\n",
      "30 Finding Dory 2187.0\n",
      "1906 Jane Eyre (2011 film) 2068.0\n",
      "19 Interstellar (film) 1670.0\n",
      "2251 An American Werewolf in London 1655.0\n"
     ]
    }
   ],
   "source": [
    "def gross(movie):\n",
    "    v = movie[1].get('gross')\n",
    "    if not v or not ' ' in v:\n",
    "        return None\n",
    "    v, unit = v.split(' ', 1)\n",
    "    unit = unit.lower()\n",
    "    if not unit in ('million', 'billion'):\n",
    "        return None\n",
    "    if not v.startswith('$'):\n",
    "        return None\n",
    "    try:\n",
    "        v = float(v[1:])\n",
    "    except ValueError:\n",
    "        return None\n",
    "    if unit == 'billion':\n",
    "        v *= 1000\n",
    "    return v\n",
    "\n",
    "movie_gross = [gross(m) for m in movies]\n",
    "movie_gross = np.asarray([gr for gr in movie_gross if gr is not None])\n",
    "highest = np.argsort(movie_gross)[-10:]\n",
    "for c in reversed(highest):\n",
    "    print(c, movies[c][0], movie_gross[c])"
   ]
  },
  {
   "cell_type": "code",
   "execution_count": 368,
   "metadata": {},
   "outputs": [],
   "source": [
    "gross_y = np.asarray([gr for gr in movie_gross if gr])\n",
    "gross_X = np.asarray([normalized_movies[movie_to_idx[movie[0]]] for movie, gr in zip(movies, movie_gross) if gr])"
   ]
  },
  {
   "cell_type": "code",
   "execution_count": 369,
   "metadata": {},
   "outputs": [
    {
     "data": {
      "text/plain": [
       "LinearRegression(copy_X=True, fit_intercept=True, n_jobs=None,\n",
       "         normalize=False)"
      ]
     },
     "execution_count": 369,
     "metadata": {},
     "output_type": "execute_result"
    }
   ],
   "source": [
    "TRAINING_CUT_OFF = int(len(gross_X) * 0.8)\n",
    "regr = LinearRegression()\n",
    "regr.fit(gross_X[:TRAINING_CUT_OFF], gross_y[:TRAINING_CUT_OFF])"
   ]
  },
  {
   "cell_type": "code",
   "execution_count": 370,
   "metadata": {},
   "outputs": [
    {
     "data": {
      "text/plain": [
       "'mean square error 9061.02'"
      ]
     },
     "execution_count": 370,
     "metadata": {},
     "output_type": "execute_result"
    }
   ],
   "source": [
    "error = (regr.predict(gross_X[TRAINING_CUT_OFF:]) - gross_y[TRAINING_CUT_OFF:])\n",
    "'mean square error %2.2f' % np.mean(error ** 2)"
   ]
  },
  {
   "cell_type": "code",
   "execution_count": 371,
   "metadata": {},
   "outputs": [
    {
     "data": {
      "text/plain": [
       "'mean square error 14115.59'"
      ]
     },
     "execution_count": 371,
     "metadata": {},
     "output_type": "execute_result"
    }
   ],
   "source": [
    "error = (np.mean(gross_y[:TRAINING_CUT_OFF]) - gross_y[TRAINING_CUT_OFF:])\n",
    "'mean square error %2.2f' % np.mean(error ** 2)"
   ]
  },
  {
   "cell_type": "code",
   "execution_count": null,
   "metadata": {},
   "outputs": [],
   "source": []
  }
 ],
 "metadata": {
  "kernelspec": {
   "display_name": "TensorFlow-GPU",
   "language": "python",
   "name": "tf-gpu"
  },
  "language_info": {
   "codemirror_mode": {
    "name": "ipython",
    "version": 3
   },
   "file_extension": ".py",
   "mimetype": "text/x-python",
   "name": "python",
   "nbconvert_exporter": "python",
   "pygments_lexer": "ipython3",
   "version": "3.6.6"
  }
 },
 "nbformat": 4,
 "nbformat_minor": 2
}
