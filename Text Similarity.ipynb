{
 "cells": [
  {
   "cell_type": "markdown",
   "metadata": {},
   "source": [
    "## Text Similarity using Word Embeddings\n",
    "\n",
    "In this notebook we're going to play around with pre build word embeddings and do some fun calcultations:"
   ]
  },
  {
   "cell_type": "code",
   "execution_count": 1,
   "metadata": {},
   "outputs": [
    {
     "name": "stderr",
     "output_type": "stream",
     "text": [
      "Using TensorFlow backend.\n"
     ]
    }
   ],
   "source": [
    "%matplotlib inline\n",
    "\n",
    "import os\n",
    "from keras.utils import get_file\n",
    "import warnings\n",
    "warnings.filterwarnings(action='ignore', category=UserWarning, module='gensim')\n",
    "import gensim\n",
    "import subprocess\n",
    "import numpy as np\n",
    "import matplotlib.pyplot as plt\n",
    "from IPython.core.pylabtools import figsize\n",
    "figsize(10, 10)\n",
    "\n",
    "from sklearn.manifold import TSNE\n",
    "import json\n",
    "from collections import Counter\n",
    "from itertools import chain"
   ]
  },
  {
   "cell_type": "code",
   "execution_count": 2,
   "metadata": {},
   "outputs": [],
   "source": [
    "MODEL = 'GoogleNews-vectors-negative300.bin'\n",
    "path = get_file(MODEL + '.gz', 'https://s3.amazonaws.com/dl4j-distribution/%s.gz' % MODEL)\n",
    "if not os.path.isdir('generated'):\n",
    "    os.mkdir('generated')\n",
    "    \n",
    "unzipped = os.path.join('generated', path)\n",
    "if not os.path.isfile(unzipped):\n",
    "    with open(unzipped, 'wb') as fout:\n",
    "        zipper = subprocess.Popen(['7zip'],\n",
    "                          stdin=open(path),\n",
    "                          stdout=fout\n",
    "                         )\n",
    "        zipper.wait()"
   ]
  },
  {
   "cell_type": "code",
   "execution_count": 3,
   "metadata": {},
   "outputs": [],
   "source": [
    "model = gensim.models.KeyedVectors.load_word2vec_format(unzipped, binary=True)"
   ]
  },
  {
   "cell_type": "code",
   "execution_count": 4,
   "metadata": {},
   "outputs": [
    {
     "data": {
      "text/plain": [
       "[('cappuccino', 0.6888186931610107),\n",
       " ('mocha', 0.6686208844184875),\n",
       " ('coffee', 0.6616826057434082),\n",
       " ('latte', 0.6536753177642822),\n",
       " ('caramel_macchiato', 0.6491268873214722),\n",
       " ('ristretto', 0.6485545635223389),\n",
       " ('espressos', 0.6438628435134888),\n",
       " ('macchiato', 0.6428250074386597),\n",
       " ('chai_latte', 0.6308028697967529),\n",
       " ('espresso_cappuccino', 0.6280542612075806)]"
      ]
     },
     "execution_count": 4,
     "metadata": {},
     "output_type": "execute_result"
    }
   ],
   "source": [
    "model.most_similar(positive=['espresso'])"
   ]
  },
  {
   "cell_type": "markdown",
   "metadata": {},
   "source": [
    "Now for the famous equation, what is like woman if king is like man? We create a quick method to these calculations here:"
   ]
  },
  {
   "cell_type": "code",
   "execution_count": 5,
   "metadata": {},
   "outputs": [],
   "source": [
    "def A_is_to_B_as_C_is_to(a, b, c, topn=1):\n",
    "    a, b, c = map(lambda x:x if type(x) == list else [x], (a, b, c))\n",
    "    res = model.most_similar(positive=b + c, negative=a, topn=topn)\n",
    "    if len(res):\n",
    "        if topn == 1:\n",
    "            return res[0][0]\n",
    "        return [x[0] for x in res]\n",
    "    return None"
   ]
  },
  {
   "cell_type": "code",
   "execution_count": 6,
   "metadata": {},
   "outputs": [
    {
     "data": {
      "text/plain": [
       "['queen', 'monarch', 'princess']"
      ]
     },
     "execution_count": 6,
     "metadata": {},
     "output_type": "execute_result"
    }
   ],
   "source": [
    "A_is_to_B_as_C_is_to('man', 'woman', 'king', 3)"
   ]
  },
  {
   "cell_type": "code",
   "execution_count": 7,
   "metadata": {},
   "outputs": [
    {
     "name": "stdout",
     "output_type": "stream",
     "text": [
      "Athens is the capital of Greece\n",
      "Paris is the capital of France\n",
      "Delhi is the capital of India\n",
      "Beijing is the capital of China\n"
     ]
    }
   ],
   "source": [
    "for country in 'Greece', 'France', 'India', 'China':\n",
    "    print('%s is the capital of %s' %\n",
    "         (A_is_to_B_as_C_is_to('Germany', 'Berlin', country), country))"
   ]
  },
  {
   "cell_type": "markdown",
   "metadata": {},
   "source": [
    "Or we can do the same for important products for given companies. Here we seed the products equation with two products, the iPhone for Apple and Starbucks_coffee for Starbucks. Note that numbers are replaced by # in the embedding model:"
   ]
  },
  {
   "cell_type": "code",
   "execution_count": 8,
   "metadata": {},
   "outputs": [
    {
     "name": "stdout",
     "output_type": "stream",
     "text": [
      "Google -> personalized_homepage, app, Gmail\n",
      "IBM -> DB2, WebSphere_Portal, Tamino_XML_Server\n",
      "Dell -> Axims, smartphone, Inspiron_##z\n",
      "Microsoft -> Windows_Mobile, SyncMate, Windows\n",
      "Lonza -> peptide_synthesis, cGMP_manufacture, GelSite_polymer\n"
     ]
    }
   ],
   "source": [
    "for company in 'Google', 'IBM', 'Dell', 'Microsoft', 'Lonza':\n",
    "    products = A_is_to_B_as_C_is_to(\n",
    "        ['Starbucks', 'Apple'], \n",
    "        ['Starbucks_coffee', 'iPhone'], \n",
    "        company, topn=3)\n",
    "    print('%s -> %s' % \n",
    "          (company, ', '.join(products)))"
   ]
  },
  {
   "cell_type": "markdown",
   "metadata": {},
   "source": [
    "Let's do some clustering by picking three categories of items, drinks, countries and sports:"
   ]
  },
  {
   "cell_type": "code",
   "execution_count": 25,
   "metadata": {},
   "outputs": [
    {
     "data": {
      "text/plain": [
       "18"
      ]
     },
     "execution_count": 25,
     "metadata": {},
     "output_type": "execute_result"
    }
   ],
   "source": [
    "beverages = ['espresso', 'beer', 'vodka', 'wine', 'cola', 'tea']\n",
    "countries = ['Italy', 'Germany', 'Russia', 'France', 'USA', 'India']\n",
    "sports = ['soccer', 'handball', 'hockey', 'cycling', 'basketball', 'cricket']\n",
    "\n",
    "items = beverages + countries + sports\n",
    "len(items)"
   ]
  },
  {
   "cell_type": "markdown",
   "metadata": {},
   "source": [
    "And looking up their vectors:"
   ]
  },
  {
   "cell_type": "code",
   "execution_count": 26,
   "metadata": {},
   "outputs": [
    {
     "data": {
      "text/plain": [
       "18"
      ]
     },
     "execution_count": 26,
     "metadata": {},
     "output_type": "execute_result"
    }
   ],
   "source": [
    "item_vectors = [(item, model[item]) \n",
    "                    for item in items\n",
    "                    if item in model]\n",
    "len(item_vectors)"
   ]
  },
  {
   "cell_type": "markdown",
   "metadata": {},
   "source": [
    "Now use TSNE for clustering:"
   ]
  },
  {
   "cell_type": "code",
   "execution_count": 33,
   "metadata": {},
   "outputs": [
    {
     "name": "stdout",
     "output_type": "stream",
     "text": [
      "[t-SNE] Computing 17 nearest neighbors...\n",
      "[t-SNE] Indexed 18 samples in 0.001s...\n",
      "[t-SNE] Computed neighbors for 18 samples in 0.001s...\n",
      "[t-SNE] Computed conditional probabilities for sample 18 / 18\n",
      "[t-SNE] Mean sigma: 0.581543\n",
      "[t-SNE] Computed conditional probabilities in 0.001s\n",
      "[t-SNE] Iteration 50: error = 65.8121796, gradient norm = 0.5739394 (50 iterations in 0.012s)\n",
      "[t-SNE] Iteration 100: error = 58.1140022, gradient norm = 0.0333328 (50 iterations in 0.013s)\n",
      "[t-SNE] Iteration 150: error = 57.8511581, gradient norm = 0.0595930 (50 iterations in 0.010s)\n",
      "[t-SNE] Iteration 200: error = 66.3923416, gradient norm = 0.1444317 (50 iterations in 0.009s)\n",
      "[t-SNE] Iteration 250: error = 61.1587639, gradient norm = 0.0574394 (50 iterations in 0.006s)\n",
      "[t-SNE] KL divergence after 250 iterations with early exaggeration: 61.158764\n",
      "[t-SNE] Iteration 300: error = 0.9593746, gradient norm = 0.0011900 (50 iterations in 0.000s)\n",
      "[t-SNE] Iteration 350: error = 0.6237278, gradient norm = 0.0005582 (50 iterations in 0.016s)\n",
      "[t-SNE] Iteration 400: error = 0.4913408, gradient norm = 0.0002314 (50 iterations in 0.016s)\n",
      "[t-SNE] Iteration 450: error = 0.4613834, gradient norm = 0.0002080 (50 iterations in 0.000s)\n",
      "[t-SNE] Iteration 500: error = 0.3755513, gradient norm = 0.0003232 (50 iterations in 0.016s)\n",
      "[t-SNE] Iteration 550: error = 0.2978532, gradient norm = 0.0002274 (50 iterations in 0.000s)\n",
      "[t-SNE] Iteration 600: error = 0.2395118, gradient norm = 0.0001940 (50 iterations in 0.016s)\n",
      "[t-SNE] Iteration 650: error = 0.2043877, gradient norm = 0.0002950 (50 iterations in 0.000s)\n",
      "[t-SNE] Iteration 700: error = 0.1652296, gradient norm = 0.0001568 (50 iterations in 0.016s)\n",
      "[t-SNE] Iteration 750: error = 0.1561727, gradient norm = 0.0000991 (50 iterations in 0.000s)\n",
      "[t-SNE] Iteration 800: error = 0.1474508, gradient norm = 0.0000849 (50 iterations in 0.016s)\n",
      "[t-SNE] Iteration 850: error = 0.1356261, gradient norm = 0.0000860 (50 iterations in 0.016s)\n",
      "[t-SNE] Iteration 900: error = 0.1198896, gradient norm = 0.0000854 (50 iterations in 0.000s)\n",
      "[t-SNE] Iteration 950: error = 0.1095061, gradient norm = 0.0000498 (50 iterations in 0.016s)\n",
      "[t-SNE] Iteration 1000: error = 0.1060177, gradient norm = 0.0000326 (50 iterations in 0.000s)\n",
      "[t-SNE] KL divergence after 1000 iterations: 0.106018\n"
     ]
    }
   ],
   "source": [
    "vectors = np.asarray([x[1] for x in item_vectors])\n",
    "lengths = np.linalg.norm(vectors, axis=1)\n",
    "norm_vectors = (vectors.T / lengths).T\n",
    "\n",
    "tsne = TSNE(n_components=2, perplexity=10, verbose=2).fit_transform(norm_vectors)"
   ]
  },
  {
   "cell_type": "markdown",
   "metadata": {},
   "source": [
    "And matplotlib to show the results:"
   ]
  },
  {
   "cell_type": "code",
   "execution_count": 34,
   "metadata": {
    "scrolled": true
   },
   "outputs": [
    {
     "data": {
      "image/png": "[encoded data removed]",
      "text/plain": [
       "<Figure size 720x720 with 1 Axes>"
      ]
     },
     "metadata": {
      "needs_background": "light"
     },
     "output_type": "display_data"
    }
   ],
   "source": [
    "x=tsne[:,0]\n",
    "y=tsne[:,1]\n",
    "\n",
    "fig, ax = plt.subplots()\n",
    "ax.scatter(x, y)\n",
    "\n",
    "for item, x1, y1 in zip(item_vectors, x, y):\n",
    "    ax.annotate(item[0], (x1, y1), size=14)\n",
    "\n",
    "plt.show()"
   ]
  },
  {
   "cell_type": "code",
   "execution_count": null,
   "metadata": {},
   "outputs": [],
   "source": []
  }
 ],
 "metadata": {
  "kernelspec": {
   "display_name": "TensorFlow-GPU",
   "language": "python",
   "name": "tf-gpu"
  },
  "language_info": {
   "codemirror_mode": {
    "name": "ipython",
    "version": 3
   },
   "file_extension": ".py",
   "mimetype": "text/x-python",
   "name": "python",
   "nbconvert_exporter": "python",
   "pygments_lexer": "ipython3",
   "version": "3.6.6"
  }
 },
 "nbformat": 4,
 "nbformat_minor": 2
}
